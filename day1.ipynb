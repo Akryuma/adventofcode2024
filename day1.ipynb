{
 "cells": [
  {
   "cell_type": "code",
   "execution_count": 2,
   "metadata": {},
   "outputs": [],
   "source": [
    "import bisect\n",
    "import numpy as np\n",
    "import re"
   ]
  },
  {
   "cell_type": "markdown",
   "metadata": {},
   "source": [
    "# Day 1"
   ]
  },
  {
   "cell_type": "markdown",
   "metadata": {},
   "source": [
    "### Day 1 - Part 1"
   ]
  },
  {
   "cell_type": "code",
   "execution_count": 3,
   "metadata": {},
   "outputs": [
    {
     "name": "stdout",
     "output_type": "stream",
     "text": [
      "3714264\n"
     ]
    }
   ],
   "source": [
    "left = []\n",
    "right = []\n",
    "with open(\"inputs/input_day1\", \"r\") as file:\n",
    "    for line in file:\n",
    "        a, b = line.split(\"   \")\n",
    "        a, b = int(a), int(b)\n",
    "        bisect.insort(left, a)\n",
    "        bisect.insort(right, b)\n",
    "print(np.sum(np.abs(np.array(left)-np.array(right))))"
   ]
  },
  {
   "cell_type": "markdown",
   "metadata": {},
   "source": [
    "### Day 1 - Part 2"
   ]
  },
  {
   "cell_type": "code",
   "execution_count": 4,
   "metadata": {},
   "outputs": [
    {
     "name": "stdout",
     "output_type": "stream",
     "text": [
      "18805872\n"
     ]
    }
   ],
   "source": [
    "frequency_right = {}\n",
    "for x in right:\n",
    "    if x in frequency_right:\n",
    "        frequency_right[x] += 1\n",
    "    else:\n",
    "        frequency_right[x] = 1\n",
    "similarity_score = 0\n",
    "for x in left:\n",
    "    if x in frequency_right:\n",
    "        similarity_score += frequency_right[x] * x\n",
    "print(similarity_score)"
   ]
  },
  {
   "cell_type": "markdown",
   "metadata": {},
   "source": [
    "# Day 2"
   ]
  },
  {
   "cell_type": "markdown",
   "metadata": {},
   "source": [
    "### Day 2 - Part 1"
   ]
  },
  {
   "cell_type": "code",
   "execution_count": 5,
   "metadata": {},
   "outputs": [
    {
     "name": "stdout",
     "output_type": "stream",
     "text": [
      "269\n"
     ]
    }
   ],
   "source": [
    "good_reports = 0\n",
    "def test_report(report: list):\n",
    "    first_number = report[0]\n",
    "    increase = None\n",
    "    for x in report[1:]:\n",
    "        if first_number == x or np.abs(first_number - x) > 3:\n",
    "            return False\n",
    "        if increase is None:\n",
    "            if first_number > x:\n",
    "                increase = False\n",
    "            else: increase = True\n",
    "        elif increase and first_number > x:\n",
    "            return False\n",
    "        elif not increase and first_number < x:\n",
    "            return False\n",
    "        first_number = x\n",
    "    return True\n",
    "            \n",
    "with open(\"inputs/input_day2\", \"r\") as file:\n",
    "    for line in file:\n",
    "        report = line.split(\" \")\n",
    "        report = [int(x) for x in report]\n",
    "        if test_report(report):\n",
    "            good_reports += 1\n",
    "    \n",
    "print(good_reports)"
   ]
  },
  {
   "cell_type": "markdown",
   "metadata": {},
   "source": [
    "### Day 2 - Part 2"
   ]
  },
  {
   "cell_type": "code",
   "execution_count": 6,
   "metadata": {},
   "outputs": [],
   "source": [
    "def is_dampened_safe(report):\n",
    "    \"\"\"Check if removing one level makes the report safe.\"\"\"\n",
    "    n = len(report)\n",
    "    for i in range(n):\n",
    "        modified_report = report[:i] + report[i+1:]\n",
    "        if is_safe(modified_report):\n",
    "            return True\n",
    "    return False\n",
    "\n",
    "def count_safe_reports(reports):\n",
    "    \"\"\"Count the number of safe reports, considering the Problem Dampener.\"\"\"\n",
    "    safe_count = 0\n",
    "    for report in reports:\n",
    "        if is_safe(report) or is_dampened_safe(report):\n",
    "            safe_count += 1\n",
    "    return safe_count"
   ]
  },
  {
   "cell_type": "code",
   "execution_count": 7,
   "metadata": {},
   "outputs": [
    {
     "name": "stdout",
     "output_type": "stream",
     "text": [
      "337\n"
     ]
    }
   ],
   "source": [
    "good_reports_lax = 0\n",
    "    \n",
    "def test_report_lax(report: list):\n",
    "    if test_report(report): return True\n",
    "    n = len(report)\n",
    "    for i in range(n):\n",
    "        modified_report = report[:i] + report[i+1:]\n",
    "        if test_report(modified_report):\n",
    "            return True\n",
    "    return False\n",
    "            \n",
    "with open(\"inputs/input_day2\", \"r\") as file:\n",
    "    for line in file:\n",
    "        report = line.split(\" \")\n",
    "        report = [int(x) for x in report]\n",
    "        if test_report_lax(report):\n",
    "            good_reports_lax += 1\n",
    "    \n",
    "print(good_reports_lax)"
   ]
  },
  {
   "cell_type": "markdown",
   "metadata": {},
   "source": [
    "# Day 3"
   ]
  },
  {
   "cell_type": "markdown",
   "metadata": {},
   "source": [
    "### Day 3 - Part 1"
   ]
  },
  {
   "cell_type": "code",
   "execution_count": 8,
   "metadata": {},
   "outputs": [
    {
     "name": "stdout",
     "output_type": "stream",
     "text": [
      "174336360\n"
     ]
    },
    {
     "name": "stderr",
     "output_type": "stream",
     "text": [
      "<>:2: SyntaxWarning: invalid escape sequence '\\d'\n",
      "<>:7: SyntaxWarning: invalid escape sequence '\\('\n",
      "<>:2: SyntaxWarning: invalid escape sequence '\\d'\n",
      "<>:7: SyntaxWarning: invalid escape sequence '\\('\n",
      "C:\\conda_tmp\\ipykernel_18812\\168846321.py:2: SyntaxWarning: invalid escape sequence '\\d'\n",
      "  t = re.findall(\"\\d{1,3}\", txt_mul)\n",
      "C:\\conda_tmp\\ipykernel_18812\\168846321.py:7: SyntaxWarning: invalid escape sequence '\\('\n",
      "  mul_strings += re.findall(\"mul\\(\\d{1,3},\\d{1,3}\\)\", line)\n"
     ]
    }
   ],
   "source": [
    "def multiply_numbers(txt_mul: str):\n",
    "    t = re.findall(\"\\d{1,3}\", txt_mul)\n",
    "    return int(t[0]) * int(t[1])\n",
    "mul_strings = []\n",
    "with open(\"inputs/input_day3\", \"r\") as file:\n",
    "    for line in file:\n",
    "        mul_strings += re.findall(\"mul\\(\\d{1,3},\\d{1,3}\\)\", line) \n",
    "res = 0\n",
    "for txt_mul in mul_strings:\n",
    "    res += multiply_numbers(txt_mul)\n",
    "print(res)"
   ]
  },
  {
   "cell_type": "markdown",
   "metadata": {},
   "source": [
    "### Day 3 - Part 2"
   ]
  },
  {
   "cell_type": "code",
   "execution_count": 9,
   "metadata": {},
   "outputs": [
    {
     "name": "stdout",
     "output_type": "stream",
     "text": [
      "88802350\n"
     ]
    },
    {
     "name": "stderr",
     "output_type": "stream",
     "text": [
      "<>:4: SyntaxWarning: invalid escape sequence '\\('\n",
      "<>:4: SyntaxWarning: invalid escape sequence '\\('\n",
      "C:\\conda_tmp\\ipykernel_18812\\3912158296.py:4: SyntaxWarning: invalid escape sequence '\\('\n",
      "  mul_strings += re.findall(\"mul\\(\\d{1,3},\\d{1,3}\\)|do\\(\\)|don\\'t\\(\\)\", line)\n"
     ]
    }
   ],
   "source": [
    "mul_strings = []\n",
    "with open(\"inputs/input_day3\", \"r\") as file:\n",
    "    for line in file:\n",
    "        mul_strings += re.findall(\"mul\\(\\d{1,3},\\d{1,3}\\)|do\\(\\)|don\\'t\\(\\)\", line) \n",
    "res = 0\n",
    "do = True\n",
    "for txt_mul in mul_strings:\n",
    "    if txt_mul == \"don't()\":\n",
    "        do = False\n",
    "    elif txt_mul == \"do()\":\n",
    "        do = True\n",
    "    elif do:\n",
    "        res += multiply_numbers(txt_mul)\n",
    "print(res)"
   ]
  },
  {
   "cell_type": "markdown",
   "metadata": {},
   "source": [
    "# Day 4"
   ]
  },
  {
   "cell_type": "markdown",
   "metadata": {},
   "source": [
    "### Day 4 - Part 1"
   ]
  },
  {
   "cell_type": "code",
   "execution_count": 10,
   "metadata": {},
   "outputs": [],
   "source": [
    "input_xmas = []\n",
    "with open(\"inputs/input_day4\", \"r\") as file:\n",
    "    for line in file:\n",
    "        input_xmas.append(list(line))"
   ]
  },
  {
   "cell_type": "code",
   "execution_count": null,
   "metadata": {},
   "outputs": [],
   "source": [
    "def find_horizontal_xmas(input_array):\n",
    "    word = 0\n",
    "    count_xmas = 0\n",
    "    for line in input_array:\n",
    "        for x in line:\n",
    "            if x == \"X\":\n",
    "                word = 1\n",
    "            elif x == \"M\" and word == 1:\n",
    "                word = 2\n",
    "            elif x == \"A\" and word == 2:\n",
    "                word = 3\n",
    "            elif x == \"S\" and word == 3:\n",
    "                count_xmas += 1\n",
    "                word = 0\n",
    "            else:\n",
    "                word = 0\n",
    "    return count_xmas\n",
    "\n",
    "def retrive_diags(input_array):\n",
    "    n_lines, n_cols = np.shape(input_xmas)\n",
    "    res = []\n",
    "    for i = "
   ]
  },
  {
   "cell_type": "code",
   "execution_count": 29,
   "metadata": {},
   "outputs": [
    {
     "data": {
      "text/plain": [
       "882"
      ]
     },
     "execution_count": 29,
     "metadata": {},
     "output_type": "execute_result"
    }
   ],
   "source": [
    "find_horizontal_xmas(input_xmas) + find_horizontal_xmas([line[::-1] for line in input_xmas]) + \\\n",
    "    find_horizontal_xmas(np.transpose(input_xmas)) + find_horizontal_xmas([line[::-1] for line in np.transpose(input_xmas)]) + \\\n",
    "    0"
   ]
  }
 ],
 "metadata": {
  "kernelspec": {
   "display_name": "pytorch",
   "language": "python",
   "name": "python3"
  },
  "language_info": {
   "codemirror_mode": {
    "name": "ipython",
    "version": 3
   },
   "file_extension": ".py",
   "mimetype": "text/x-python",
   "name": "python",
   "nbconvert_exporter": "python",
   "pygments_lexer": "ipython3",
   "version": "3.12.4"
  }
 },
 "nbformat": 4,
 "nbformat_minor": 2
}
